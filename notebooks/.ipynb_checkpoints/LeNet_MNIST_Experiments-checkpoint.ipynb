{
 "cells": [
  {
   "cell_type": "code",
   "execution_count": 9,
   "metadata": {},
   "outputs": [],
   "source": [
    "# from IPython.core.display import HTML\n",
    "# HTML(\"<script>Jupyter.notebook.kernel.restart()</script>\")\n",
    "%reload_ext autoreload\n",
    "%autoreload 2\n",
    "PROJECT_DIR = \"/Users/raghav/envPython3/experiments/one_class_neural_networks/\"\n",
    "import sys,os\n",
    "import numpy as np\n",
    "sys.path.append(PROJECT_DIR)\n",
    "from src.data.make_dataset import CreateDataSet\n",
    "from src.models.Lenet import LeNet\n",
    "from src.models.FF_NN import FF_NN\n",
    "## Create data for training and testing\n",
    "createData = CreateDataSet()"
   ]
  },
  {
   "cell_type": "markdown",
   "metadata": {},
   "source": [
    "## Obtain Training and Test Datasets"
   ]
  },
  {
   "cell_type": "code",
   "execution_count": 90,
   "metadata": {},
   "outputs": [
    {
     "name": "stdout",
     "output_type": "stream",
     "text": [
      "5000 Positive test samples\n",
      "500 Negative test samples\n",
      "5000 Positive test samples\n",
      "50 Negative test samples\n"
     ]
    }
   ],
   "source": [
    "## Obtaining the training and testing data\n",
    "%reload_ext autoreload\n",
    "%autoreload 2\n",
    "NUM_NORMAL = 5000\n",
    "NUM_ANOMALIES = 100\n",
    "TEST_NUM_ANOMALIES = 50\n",
    "# trainX,trainY = createData.get_MNIST_TrainingData(NUM_NORMAL)\n",
    "trainX,trainY,testX,testY = createData.get_MNIST_TrainingData(NUM_NORMAL,NUM_ANOMALIES)\n",
    "trainX = np.concatenate((trainX,testX),axis=0)\n",
    "trainY = np.concatenate((trainY,testY),axis=0)\n",
    "[Xtest_Pos,label_ones,Xtest_Neg,label_sevens]= createData.get_MNIST_TestingData(NUM_NORMAL,TEST_NUM_ANOMALIES)\n",
    "\n"
   ]
  },
  {
   "cell_type": "markdown",
   "metadata": {},
   "source": [
    "## Train  LeNet Model Supervised Model"
   ]
  },
  {
   "cell_type": "code",
   "execution_count": 91,
   "metadata": {},
   "outputs": [
    {
     "name": "stdout",
     "output_type": "stream",
     "text": [
      "[INFO] compiling model...\n",
      "[INFO] training network...\n",
      "Epoch 1/25\n",
      "171/171 [==============================] - 11s 63ms/step - loss: 0.1059 - acc: 0.9636 - val_loss: 0.0088 - val_acc: 0.9960\n",
      "Epoch 2/25\n",
      "171/171 [==============================] - 8s 45ms/step - loss: 0.0344 - acc: 0.9878 - val_loss: 0.0099 - val_acc: 0.9956\n",
      "Epoch 3/25\n",
      "171/171 [==============================] - 8s 46ms/step - loss: 0.0266 - acc: 0.9912 - val_loss: 0.0135 - val_acc: 0.9954\n",
      "Epoch 4/25\n",
      "171/171 [==============================] - 8s 49ms/step - loss: 0.0266 - acc: 0.9921 - val_loss: 0.0080 - val_acc: 0.9974\n",
      "Epoch 5/25\n",
      "171/171 [==============================] - 9s 51ms/step - loss: 0.0252 - acc: 0.9921 - val_loss: 0.0082 - val_acc: 0.9962\n",
      "Epoch 6/25\n",
      "171/171 [==============================] - 9s 51ms/step - loss: 0.0226 - acc: 0.9932 - val_loss: 0.0017 - val_acc: 0.9994\n",
      "Epoch 7/25\n",
      "171/171 [==============================] - 9s 52ms/step - loss: 0.0213 - acc: 0.9916 - val_loss: 0.0036 - val_acc: 0.9984\n",
      "Epoch 8/25\n",
      "171/171 [==============================] - 9s 54ms/step - loss: 0.0171 - acc: 0.9936 - val_loss: 0.0058 - val_acc: 0.9972\n",
      "Epoch 9/25\n",
      "171/171 [==============================] - 9s 51ms/step - loss: 0.0163 - acc: 0.9938 - val_loss: 0.0044 - val_acc: 0.9980\n",
      "Epoch 10/25\n",
      "171/171 [==============================] - 9s 52ms/step - loss: 0.0175 - acc: 0.9949 - val_loss: 0.0046 - val_acc: 0.9984\n",
      "Epoch 11/25\n",
      "171/171 [==============================] - 9s 53ms/step - loss: 0.0131 - acc: 0.9945 - val_loss: 0.0083 - val_acc: 0.9968\n",
      "Epoch 12/25\n",
      "171/171 [==============================] - 9s 55ms/step - loss: 0.0212 - acc: 0.9934 - val_loss: 0.0039 - val_acc: 0.9984\n",
      "Epoch 13/25\n",
      "171/171 [==============================] - 10s 60ms/step - loss: 0.0128 - acc: 0.9960 - val_loss: 0.0074 - val_acc: 0.9966\n",
      "Epoch 14/25\n",
      "171/171 [==============================] - 10s 58ms/step - loss: 0.0118 - acc: 0.9958 - val_loss: 0.0014 - val_acc: 0.9994\n",
      "Epoch 15/25\n",
      "171/171 [==============================] - 11s 63ms/step - loss: 0.0139 - acc: 0.9951 - val_loss: 0.0031 - val_acc: 0.9990\n",
      "Epoch 16/25\n",
      "171/171 [==============================] - 10s 57ms/step - loss: 0.0141 - acc: 0.9956 - val_loss: 0.0099 - val_acc: 0.9962\n",
      "Epoch 17/25\n",
      "171/171 [==============================] - 10s 58ms/step - loss: 0.0128 - acc: 0.9958 - val_loss: 0.0026 - val_acc: 0.9992\n",
      "Epoch 18/25\n",
      "171/171 [==============================] - 9s 54ms/step - loss: 0.0133 - acc: 0.9952 - val_loss: 0.0050 - val_acc: 0.9976\n",
      "Epoch 19/25\n",
      "171/171 [==============================] - 10s 57ms/step - loss: 0.0127 - acc: 0.9954 - val_loss: 0.0012 - val_acc: 0.9998\n",
      "Epoch 20/25\n",
      "171/171 [==============================] - 10s 57ms/step - loss: 0.0135 - acc: 0.9951 - val_loss: 0.0013 - val_acc: 0.9998\n",
      "Epoch 21/25\n",
      "171/171 [==============================] - 10s 56ms/step - loss: 0.0127 - acc: 0.9956 - val_loss: 0.0085 - val_acc: 0.9962\n",
      "Epoch 22/25\n",
      "171/171 [==============================] - 10s 57ms/step - loss: 0.0111 - acc: 0.9963 - val_loss: 0.0048 - val_acc: 0.9984\n",
      "Epoch 23/25\n",
      "171/171 [==============================] - 10s 57ms/step - loss: 0.0109 - acc: 0.9971 - val_loss: 0.0021 - val_acc: 0.9996\n",
      "Epoch 24/25\n",
      "171/171 [==============================] - 10s 58ms/step - loss: 0.0150 - acc: 0.9949 - val_loss: 0.0026 - val_acc: 0.9992\n",
      "Epoch 25/25\n",
      "171/171 [==============================] - 10s 57ms/step - loss: 0.0074 - acc: 0.9974 - val_loss: 0.0040 - val_acc: 0.9984\n",
      "[INFO] serializing network...\n"
     ]
    }
   ],
   "source": [
    "%reload_ext autoreload\n",
    "%autoreload 2\n",
    "IMG_HGT =28\n",
    "IMG_WDT=28\n",
    "IMG_DEPTH=1\n",
    "### Reshape the numpy array\n",
    "trainX = np.reshape(trainX,(len(trainX),IMG_HGT,IMG_WDT,IMG_DEPTH))\n",
    "Xtest_Pos = np.reshape(Xtest_Pos,(len(Xtest_Pos),IMG_HGT,IMG_WDT,IMG_DEPTH))\n",
    "Xtest_Neg = np.reshape(Xtest_Neg,(len(Xtest_Neg),IMG_HGT,IMG_WDT,IMG_DEPTH))\n",
    "testX = np.concatenate((Xtest_Pos,Xtest_Neg),axis=0)\n",
    "testY = np.concatenate((label_ones,label_sevens),axis=0)\n",
    "nClass =2\n",
    "NUM_EPOCHS = 25\n",
    "\n",
    "clf_LeNet =  LeNet()\n",
    "clf_LeNet.fit(trainX,trainY,testX,testY,NUM_EPOCHS,IMG_HGT,IMG_WDT,IMG_DEPTH,nClass)"
   ]
  },
  {
   "cell_type": "markdown",
   "metadata": {},
   "source": [
    "## Test LeNet Model"
   ]
  },
  {
   "cell_type": "code",
   "execution_count": 92,
   "metadata": {},
   "outputs": [
    {
     "name": "stdout",
     "output_type": "stream",
     "text": [
      "[INFO] loading network...\n",
      "5050 Actual test samples\n",
      "===================================\n",
      "auccary_score: 0.9984158415841584\n",
      "roc_auc_score: 0.9992\n",
      "y_true [1 1 1 1 1 1 1 1 1 1 1 1 1 1 1 1 1 1 1 1 1 1 1 1 1 1 1 1 1 1 1 1 1 1 1 1 1\n",
      " 1 1 1 1 1 1 1 1 1 1 1 1 1 0 0 0 0 0 0 0 0 0 0 0 0 0 0 0 0 0 0 0 0 0 0 0 0\n",
      " 0 0 0 0 0 0 0 0 0 0 0 0 0 0 0 0 0 0 0 0 0 0 0 0 0 0]\n",
      "y_pred [1 1 1 1 1 1 1 1 1 1 1 1 1 1 1 1 1 1 1 1 1 1 1 1 1 1 1 1 1 1 1 1 1 1 1 1 1\n",
      " 1 1 1 1 1 1 1 1 1 1 1 1 1 0 0 0 0 0 0 0 0 0 0 0 0 0 0 0 0 0 0 0 0 0 0 0 0\n",
      " 0 0 0 0 0 0 0 0 0 0 0 0 0 0 0 0 0 0 0 0 0 0 0 0 0 0]\n",
      "===================================\n",
      "===========\n",
      "AUC:  0.9992\n",
      "===========\n"
     ]
    }
   ],
   "source": [
    "%reload_ext autoreload\n",
    "%autoreload 2\n",
    "auc_LeNet = clf_LeNet.score(Xtest_Pos,label_ones,Xtest_Neg,label_sevens)\n",
    "print(\"===========\")\n",
    "print(\"AUC: \",auc_LeNet)\n",
    "print(\"===========\")"
   ]
  },
  {
   "cell_type": "code",
   "execution_count": null,
   "metadata": {},
   "outputs": [],
   "source": []
  }
 ],
 "metadata": {
  "kernelspec": {
   "display_name": "Python 3",
   "language": "python",
   "name": "python3"
  },
  "language_info": {
   "codemirror_mode": {
    "name": "ipython",
    "version": 3
   },
   "file_extension": ".py",
   "mimetype": "text/x-python",
   "name": "python",
   "nbconvert_exporter": "python",
   "pygments_lexer": "ipython3",
   "version": "3.6.5"
  }
 },
 "nbformat": 4,
 "nbformat_minor": 2
}
