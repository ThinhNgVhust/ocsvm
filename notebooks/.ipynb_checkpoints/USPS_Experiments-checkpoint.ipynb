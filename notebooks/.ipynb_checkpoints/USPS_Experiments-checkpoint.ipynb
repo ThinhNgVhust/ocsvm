{
 "cells": [
  {
   "cell_type": "markdown",
   "metadata": {},
   "source": [
    "### Import Required Models and Helper Classes"
   ]
  },
  {
   "cell_type": "code",
   "execution_count": 3,
   "metadata": {},
   "outputs": [],
   "source": [
    "%matplotlib inline\n",
    "import numpy as np\n",
    "np.random.seed(42)"
   ]
  },
  {
   "cell_type": "code",
   "execution_count": 4,
   "metadata": {},
   "outputs": [],
   "source": [
    "%reload_ext autoreload\n",
    "%autoreload 2\n",
    "\n",
    "PROJECT_DIR = \"/Users/raghav/envPython3/experiments/one_class_neural_networks/\"\n",
    "import sys,os\n",
    "import numpy as np\n",
    "sys.path.append(PROJECT_DIR)\n",
    "from src.data.make_dataset import CreateDataSet\n",
    "from src.models.FF_NN import FF_NN\n",
    "## Create data for training and testing\n",
    "createData = CreateDataSet()"
   ]
  },
  {
   "cell_type": "markdown",
   "metadata": {},
   "source": [
    "## Signatures of the methods\n",
    "\n",
    "\n",
    "### ===============================================================\n",
    "get_USPS_TestingData: \n",
    "        returns-> 220 : 1's and 11: 7's\n",
    " \n",
    "\n",
    "get_USPS_TrainingData: \n",
    "        returns-> 220 : 1's and 50: 7's\n",
    "\n",
    "\n",
    "### ===============================================================\n",
    "\n",
    "\n",
    "\n",
    "get_USPS_TestingData_With_Random_UniformNoise: \n",
    "        returns-> 220 : 1's and 220: URN( Uniform Random Noise)\n",
    "\n",
    "get_FAKE_Noise_TrainingData\n",
    "        returns-> 220 : URN\n",
    "\n",
    "### ===============================================================\n",
    "\n",
    "\n",
    "#### ===============================================================\n",
    "### Experiment Setup\n",
    "\n",
    "\n",
    "- for all methods, the test set is exactly the same (i.e., ones and sevens)\n",
    "\n",
    "- for OCNN_FakeNoise, the training set does include uniform noise; what we do is treat these as negatives, and add a new term to the objective, which measures the hinge loss when making predictions for these fake points. This is almost exactly the same as the Keras FakeNN method, but instead of using cross-entropy loss, we use hinge-loss; and we additionally learn a parameter r, which controls the fraction of points predicted to be anomalous\n",
    "\n"
   ]
  },
  {
   "cell_type": "markdown",
   "metadata": {},
   "source": [
    "## Obtain Training and Test Datasets"
   ]
  },
  {
   "cell_type": "code",
   "execution_count": 2,
   "metadata": {},
   "outputs": [
    {
     "name": "stdout",
     "output_type": "stream",
     "text": [
      "StandardScaler(copy=True, with_mean=True, with_std=True)\n"
     ]
    }
   ],
   "source": [
    "## Obtaining the training and testing data\n",
    "%reload_ext autoreload\n",
    "%autoreload 2\n",
    "NUM_NORMAL = 5000\n",
    "TRAIN_NUM_ANOMALIES = 1000\n",
    "TEST_NUM_ANOMALIES = 50\n",
    "# trainX,trainY = createData.get_MNIST_TrainingData(NUM_NORMAL)\n",
    "trainX,trainY,train_Anomaly_X,train_Anomaly_Y = createData.get_USPS_TrainingData(NUM_NORMAL,TRAIN_NUM_ANOMALIES)\n",
    "[test_ones,label_ones,test_sevens,label_sevens]= createData.get_USPS_TestingData(NUM_NORMAL,TEST_NUM_ANOMALIES)"
   ]
  },
  {
   "cell_type": "markdown",
   "metadata": {},
   "source": [
    "## Train and Test  FF_NN Model Supervised Model"
   ]
  },
  {
   "cell_type": "code",
   "execution_count": 4,
   "metadata": {},
   "outputs": [
    {
     "name": "stdout",
     "output_type": "stream",
     "text": [
      "Training the Keras Binary classifier.....\n",
      "Removed Early stopping......\n",
      "Train on 176 samples, validate on 44 samples\n",
      "Epoch 1/10\n",
      "176/176 [==============================] - 0s 2ms/step - loss: 0.0617 - acc: 0.9943 - val_loss: 0.0282 - val_acc: 1.0000\n",
      "Epoch 2/10\n",
      "176/176 [==============================] - 0s 34us/step - loss: 0.0245 - acc: 0.9943 - val_loss: 0.0307 - val_acc: 1.0000\n",
      "Epoch 3/10\n",
      "176/176 [==============================] - 0s 34us/step - loss: 0.0200 - acc: 1.0000 - val_loss: 0.0099 - val_acc: 1.0000\n",
      "Epoch 4/10\n",
      "176/176 [==============================] - 0s 37us/step - loss: 0.0096 - acc: 1.0000 - val_loss: 0.0071 - val_acc: 1.0000\n",
      "Epoch 5/10\n",
      "176/176 [==============================] - 0s 35us/step - loss: 0.0065 - acc: 1.0000 - val_loss: 0.0016 - val_acc: 1.0000\n",
      "Epoch 6/10\n",
      "176/176 [==============================] - 0s 39us/step - loss: 0.0027 - acc: 0.9943 - val_loss: 0.0011 - val_acc: 1.0000\n",
      "Epoch 7/10\n",
      "176/176 [==============================] - 0s 39us/step - loss: 9.9944e-04 - acc: 1.0000 - val_loss: 2.9564e-04 - val_acc: 1.0000\n",
      "Epoch 8/10\n",
      "176/176 [==============================] - 0s 42us/step - loss: 0.0017 - acc: 1.0000 - val_loss: 0.0016 - val_acc: 1.0000\n",
      "Epoch 9/10\n",
      "176/176 [==============================] - 0s 37us/step - loss: 0.0013 - acc: 1.0000 - val_loss: 0.0025 - val_acc: 1.0000\n",
      "Epoch 10/10\n",
      "176/176 [==============================] - 0s 44us/step - loss: 4.2597e-04 - acc: 1.0000 - val_loss: 1.0000e-07 - val_acc: 1.0000\n",
      "Trained Model is Saved at relative path inside PROJECT_DIR  ../models/supervisedBC/\n"
     ]
    },
    {
     "name": "stderr",
     "output_type": "stream",
     "text": [
      "/Users/raghav/envPython3/lib/python3.6/site-packages/keras/engine/sequential.py:252: UserWarning: Network returning invalid probability values. The last layer might not normalize predictions into probabilities (like softmax or sigmoid would).\n",
      "  warnings.warn('Network returning invalid probability values. '\n"
     ]
    },
    {
     "name": "stdout",
     "output_type": "stream",
     "text": [
      "Training the Keras Binary classifier.....\n",
      "Removed Early stopping......\n",
      "Train on 176 samples, validate on 44 samples\n",
      "Epoch 1/10\n",
      "176/176 [==============================] - 0s 2ms/step - loss: 0.0504 - acc: 1.0000 - val_loss: 0.0361 - val_acc: 1.0000\n",
      "Epoch 2/10\n",
      "176/176 [==============================] - 0s 32us/step - loss: 0.0234 - acc: 1.0000 - val_loss: 0.0041 - val_acc: 1.0000\n",
      "Epoch 3/10\n",
      "176/176 [==============================] - 0s 40us/step - loss: 0.0186 - acc: 1.0000 - val_loss: 0.0165 - val_acc: 1.0000\n",
      "Epoch 4/10\n",
      "176/176 [==============================] - 0s 40us/step - loss: 0.0093 - acc: 1.0000 - val_loss: 3.6461e-04 - val_acc: 1.0000\n",
      "Epoch 5/10\n",
      "176/176 [==============================] - 0s 45us/step - loss: 0.0033 - acc: 1.0000 - val_loss: 0.0039 - val_acc: 1.0000\n",
      "Epoch 6/10\n",
      "176/176 [==============================] - 0s 36us/step - loss: 0.0024 - acc: 1.0000 - val_loss: 0.0022 - val_acc: 1.0000\n",
      "Epoch 7/10\n",
      "176/176 [==============================] - 0s 38us/step - loss: 0.0019 - acc: 1.0000 - val_loss: 1.0000e-07 - val_acc: 1.0000\n",
      "Epoch 8/10\n",
      "176/176 [==============================] - 0s 32us/step - loss: 0.0021 - acc: 0.9943 - val_loss: 0.0032 - val_acc: 1.0000\n",
      "Epoch 9/10\n",
      "176/176 [==============================] - 0s 32us/step - loss: 0.0016 - acc: 0.9943 - val_loss: 1.0000e-07 - val_acc: 1.0000\n",
      "Epoch 10/10\n",
      "176/176 [==============================] - 0s 39us/step - loss: 0.0013 - acc: 0.9943 - val_loss: 3.4201e-04 - val_acc: 1.0000\n",
      "Trained Model is Saved at relative path inside PROJECT_DIR  ../models/supervisedBC/\n"
     ]
    },
    {
     "name": "stderr",
     "output_type": "stream",
     "text": [
      "/Users/raghav/envPython3/lib/python3.6/site-packages/keras/engine/sequential.py:252: UserWarning: Network returning invalid probability values. The last layer might not normalize predictions into probabilities (like softmax or sigmoid would).\n",
      "  warnings.warn('Network returning invalid probability values. '\n"
     ]
    },
    {
     "name": "stdout",
     "output_type": "stream",
     "text": [
      "Training the Keras Binary classifier.....\n",
      "Removed Early stopping......\n",
      "Train on 176 samples, validate on 44 samples\n",
      "Epoch 1/10\n",
      "176/176 [==============================] - 0s 2ms/step - loss: 0.0537 - acc: 1.0000 - val_loss: 0.0299 - val_acc: 1.0000\n",
      "Epoch 2/10\n",
      "176/176 [==============================] - 0s 33us/step - loss: 0.0284 - acc: 1.0000 - val_loss: 0.0282 - val_acc: 1.0000\n",
      "Epoch 3/10\n",
      "176/176 [==============================] - 0s 40us/step - loss: 0.0140 - acc: 1.0000 - val_loss: 0.0065 - val_acc: 1.0000\n",
      "Epoch 4/10\n",
      "176/176 [==============================] - 0s 32us/step - loss: 0.0136 - acc: 1.0000 - val_loss: 0.0138 - val_acc: 1.0000\n",
      "Epoch 5/10\n",
      "176/176 [==============================] - 0s 39us/step - loss: 0.0064 - acc: 1.0000 - val_loss: 0.0078 - val_acc: 1.0000\n",
      "Epoch 6/10\n",
      "176/176 [==============================] - 0s 31us/step - loss: 0.0047 - acc: 1.0000 - val_loss: 0.0045 - val_acc: 1.0000\n",
      "Epoch 7/10\n",
      "176/176 [==============================] - 0s 35us/step - loss: 0.0012 - acc: 1.0000 - val_loss: 6.9571e-04 - val_acc: 1.0000\n",
      "Epoch 8/10\n",
      "176/176 [==============================] - 0s 40us/step - loss: 0.0021 - acc: 0.9943 - val_loss: 3.7430e-04 - val_acc: 1.0000\n",
      "Epoch 9/10\n",
      "176/176 [==============================] - 0s 37us/step - loss: 0.0021 - acc: 0.9943 - val_loss: 0.0043 - val_acc: 1.0000\n",
      "Epoch 10/10\n",
      "176/176 [==============================] - 0s 48us/step - loss: 0.0014 - acc: 1.0000 - val_loss: 1.0000e-07 - val_acc: 1.0000\n",
      "Trained Model is Saved at relative path inside PROJECT_DIR  ../models/supervisedBC/\n"
     ]
    },
    {
     "name": "stderr",
     "output_type": "stream",
     "text": [
      "/Users/raghav/envPython3/lib/python3.6/site-packages/keras/engine/sequential.py:252: UserWarning: Network returning invalid probability values. The last layer might not normalize predictions into probabilities (like softmax or sigmoid would).\n",
      "  warnings.warn('Network returning invalid probability values. '\n"
     ]
    },
    {
     "name": "stdout",
     "output_type": "stream",
     "text": [
      "Training the Keras Binary classifier.....\n",
      "Removed Early stopping......\n",
      "Train on 176 samples, validate on 44 samples\n",
      "Epoch 1/10\n",
      "176/176 [==============================] - 0s 3ms/step - loss: 0.0652 - acc: 1.0000 - val_loss: 0.0385 - val_acc: 1.0000\n",
      "Epoch 2/10\n",
      "176/176 [==============================] - 0s 42us/step - loss: 0.0328 - acc: 1.0000 - val_loss: 0.0112 - val_acc: 1.0000\n",
      "Epoch 3/10\n",
      "176/176 [==============================] - 0s 31us/step - loss: 0.0187 - acc: 1.0000 - val_loss: 0.0077 - val_acc: 1.0000\n",
      "Epoch 4/10\n",
      "176/176 [==============================] - 0s 35us/step - loss: 0.0056 - acc: 1.0000 - val_loss: 0.0016 - val_acc: 1.0000\n",
      "Epoch 5/10\n",
      "176/176 [==============================] - 0s 35us/step - loss: 0.0060 - acc: 1.0000 - val_loss: 0.0038 - val_acc: 1.0000\n",
      "Epoch 6/10\n",
      "176/176 [==============================] - 0s 36us/step - loss: 0.0029 - acc: 1.0000 - val_loss: 9.7319e-04 - val_acc: 1.0000\n",
      "Epoch 7/10\n",
      "176/176 [==============================] - 0s 36us/step - loss: 0.0020 - acc: 1.0000 - val_loss: 0.0013 - val_acc: 1.0000\n",
      "Epoch 8/10\n",
      "176/176 [==============================] - 0s 34us/step - loss: 0.0021 - acc: 1.0000 - val_loss: 0.0018 - val_acc: 1.0000\n",
      "Epoch 9/10\n",
      "176/176 [==============================] - 0s 37us/step - loss: 0.0010 - acc: 1.0000 - val_loss: 0.0018 - val_acc: 1.0000\n",
      "Epoch 10/10\n",
      "176/176 [==============================] - 0s 31us/step - loss: 2.6386e-04 - acc: 1.0000 - val_loss: 4.7098e-04 - val_acc: 1.0000\n",
      "Trained Model is Saved at relative path inside PROJECT_DIR  ../models/supervisedBC/\n"
     ]
    },
    {
     "name": "stderr",
     "output_type": "stream",
     "text": [
      "/Users/raghav/envPython3/lib/python3.6/site-packages/keras/engine/sequential.py:252: UserWarning: Network returning invalid probability values. The last layer might not normalize predictions into probabilities (like softmax or sigmoid would).\n",
      "  warnings.warn('Network returning invalid probability values. '\n"
     ]
    },
    {
     "name": "stdout",
     "output_type": "stream",
     "text": [
      "Training the Keras Binary classifier.....\n",
      "Removed Early stopping......\n",
      "Train on 176 samples, validate on 44 samples\n",
      "Epoch 1/10\n",
      "176/176 [==============================] - 1s 3ms/step - loss: 0.0527 - acc: 1.0000 - val_loss: 0.0263 - val_acc: 1.0000\n",
      "Epoch 2/10\n",
      "176/176 [==============================] - 0s 39us/step - loss: 0.0331 - acc: 1.0000 - val_loss: 0.0124 - val_acc: 1.0000\n",
      "Epoch 3/10\n",
      "176/176 [==============================] - 0s 33us/step - loss: 0.0135 - acc: 1.0000 - val_loss: 0.0134 - val_acc: 1.0000\n",
      "Epoch 4/10\n",
      "176/176 [==============================] - 0s 32us/step - loss: 0.0074 - acc: 1.0000 - val_loss: 1.0000e-07 - val_acc: 1.0000\n",
      "Epoch 5/10\n",
      "176/176 [==============================] - 0s 34us/step - loss: 0.0033 - acc: 0.9943 - val_loss: 0.0060 - val_acc: 1.0000\n",
      "Epoch 6/10\n",
      "176/176 [==============================] - 0s 33us/step - loss: 0.0058 - acc: 1.0000 - val_loss: 0.0034 - val_acc: 1.0000\n",
      "Epoch 7/10\n",
      "176/176 [==============================] - 0s 35us/step - loss: 0.0014 - acc: 1.0000 - val_loss: 1.0000e-07 - val_acc: 1.0000\n",
      "Epoch 8/10\n",
      "176/176 [==============================] - 0s 35us/step - loss: 0.0019 - acc: 1.0000 - val_loss: 0.0012 - val_acc: 1.0000\n",
      "Epoch 9/10\n",
      "176/176 [==============================] - 0s 35us/step - loss: 7.9033e-04 - acc: 1.0000 - val_loss: 5.8305e-06 - val_acc: 1.0000\n",
      "Epoch 10/10\n",
      "176/176 [==============================] - 0s 33us/step - loss: 6.0805e-04 - acc: 1.0000 - val_loss: 1.0000e-07 - val_acc: 1.0000\n",
      "Trained Model is Saved at relative path inside PROJECT_DIR  ../models/supervisedBC/\n"
     ]
    },
    {
     "name": "stderr",
     "output_type": "stream",
     "text": [
      "/Users/raghav/envPython3/lib/python3.6/site-packages/keras/engine/sequential.py:252: UserWarning: Network returning invalid probability values. The last layer might not normalize predictions into probabilities (like softmax or sigmoid would).\n",
      "  warnings.warn('Network returning invalid probability values. '\n"
     ]
    },
    {
     "name": "stdout",
     "output_type": "stream",
     "text": [
      "Training the Keras Binary classifier.....\n",
      "Removed Early stopping......\n",
      "Train on 176 samples, validate on 44 samples\n",
      "Epoch 1/10\n",
      "176/176 [==============================] - 1s 3ms/step - loss: 0.0493 - acc: 1.0000 - val_loss: 0.0311 - val_acc: 1.0000\n",
      "Epoch 2/10\n",
      "176/176 [==============================] - 0s 37us/step - loss: 0.0257 - acc: 1.0000 - val_loss: 0.0140 - val_acc: 1.0000\n",
      "Epoch 3/10\n",
      "176/176 [==============================] - 0s 35us/step - loss: 0.0130 - acc: 1.0000 - val_loss: 0.0085 - val_acc: 1.0000\n",
      "Epoch 4/10\n",
      "176/176 [==============================] - 0s 31us/step - loss: 0.0084 - acc: 1.0000 - val_loss: 0.0055 - val_acc: 1.0000\n",
      "Epoch 5/10\n",
      "176/176 [==============================] - 0s 31us/step - loss: 0.0067 - acc: 1.0000 - val_loss: 1.0000e-07 - val_acc: 1.0000\n",
      "Epoch 6/10\n",
      "176/176 [==============================] - 0s 31us/step - loss: 0.0050 - acc: 1.0000 - val_loss: 0.0014 - val_acc: 1.0000\n",
      "Epoch 7/10\n",
      "176/176 [==============================] - 0s 34us/step - loss: 0.0025 - acc: 1.0000 - val_loss: 3.5287e-04 - val_acc: 1.0000\n",
      "Epoch 8/10\n",
      "176/176 [==============================] - 0s 34us/step - loss: 1.7230e-04 - acc: 1.0000 - val_loss: 8.7862e-04 - val_acc: 1.0000\n",
      "Epoch 9/10\n",
      "176/176 [==============================] - 0s 32us/step - loss: 1.0000e-07 - acc: 1.0000 - val_loss: 8.7862e-04 - val_acc: 1.0000\n",
      "Epoch 10/10\n",
      "176/176 [==============================] - 0s 36us/step - loss: 1.0000e-07 - acc: 1.0000 - val_loss: 8.7862e-04 - val_acc: 1.0000\n",
      "Trained Model is Saved at relative path inside PROJECT_DIR  ../models/supervisedBC/\n"
     ]
    },
    {
     "name": "stderr",
     "output_type": "stream",
     "text": [
      "/Users/raghav/envPython3/lib/python3.6/site-packages/keras/engine/sequential.py:252: UserWarning: Network returning invalid probability values. The last layer might not normalize predictions into probabilities (like softmax or sigmoid would).\n",
      "  warnings.warn('Network returning invalid probability values. '\n"
     ]
    },
    {
     "name": "stdout",
     "output_type": "stream",
     "text": [
      "Training the Keras Binary classifier.....\n",
      "Removed Early stopping......\n",
      "Train on 176 samples, validate on 44 samples\n",
      "Epoch 1/10\n",
      "176/176 [==============================] - 1s 4ms/step - loss: 0.0536 - acc: 1.0000 - val_loss: 0.0399 - val_acc: 1.0000\n",
      "Epoch 2/10\n",
      "176/176 [==============================] - 0s 37us/step - loss: 0.0275 - acc: 1.0000 - val_loss: 0.0216 - val_acc: 1.0000\n",
      "Epoch 3/10\n",
      "176/176 [==============================] - 0s 40us/step - loss: 0.0185 - acc: 1.0000 - val_loss: 0.0105 - val_acc: 1.0000\n",
      "Epoch 4/10\n",
      "176/176 [==============================] - 0s 41us/step - loss: 0.0123 - acc: 1.0000 - val_loss: 0.0019 - val_acc: 1.0000\n",
      "Epoch 5/10\n",
      "176/176 [==============================] - 0s 38us/step - loss: 0.0047 - acc: 1.0000 - val_loss: 0.0041 - val_acc: 1.0000\n",
      "Epoch 6/10\n",
      "176/176 [==============================] - 0s 40us/step - loss: 0.0024 - acc: 1.0000 - val_loss: 0.0028 - val_acc: 1.0000\n",
      "Epoch 7/10\n",
      "176/176 [==============================] - 0s 38us/step - loss: 0.0048 - acc: 0.9943 - val_loss: 0.0032 - val_acc: 1.0000\n",
      "Epoch 8/10\n",
      "176/176 [==============================] - 0s 37us/step - loss: 0.0015 - acc: 1.0000 - val_loss: 0.0042 - val_acc: 1.0000\n",
      "Epoch 9/10\n",
      "176/176 [==============================] - 0s 35us/step - loss: 6.2292e-04 - acc: 1.0000 - val_loss: 1.0000e-07 - val_acc: 1.0000\n",
      "Epoch 10/10\n",
      "176/176 [==============================] - 0s 34us/step - loss: 8.8571e-04 - acc: 1.0000 - val_loss: 0.0014 - val_acc: 1.0000\n",
      "Trained Model is Saved at relative path inside PROJECT_DIR  ../models/supervisedBC/\n"
     ]
    },
    {
     "name": "stderr",
     "output_type": "stream",
     "text": [
      "/Users/raghav/envPython3/lib/python3.6/site-packages/keras/engine/sequential.py:252: UserWarning: Network returning invalid probability values. The last layer might not normalize predictions into probabilities (like softmax or sigmoid would).\n",
      "  warnings.warn('Network returning invalid probability values. '\n"
     ]
    },
    {
     "name": "stdout",
     "output_type": "stream",
     "text": [
      "Training the Keras Binary classifier.....\n",
      "Removed Early stopping......\n",
      "Train on 176 samples, validate on 44 samples\n",
      "Epoch 1/10\n",
      "176/176 [==============================] - 1s 4ms/step - loss: 0.0655 - acc: 0.9943 - val_loss: 0.0415 - val_acc: 1.0000\n",
      "Epoch 2/10\n",
      "176/176 [==============================] - 0s 42us/step - loss: 0.0448 - acc: 1.0000 - val_loss: 0.0231 - val_acc: 0.9773\n",
      "Epoch 3/10\n",
      "176/176 [==============================] - 0s 40us/step - loss: 0.0167 - acc: 1.0000 - val_loss: 0.0161 - val_acc: 1.0000\n",
      "Epoch 4/10\n",
      "176/176 [==============================] - 0s 33us/step - loss: 0.0117 - acc: 1.0000 - val_loss: 0.0059 - val_acc: 1.0000\n",
      "Epoch 5/10\n",
      "176/176 [==============================] - 0s 35us/step - loss: 0.0123 - acc: 1.0000 - val_loss: 0.0011 - val_acc: 1.0000\n",
      "Epoch 6/10\n",
      "176/176 [==============================] - 0s 35us/step - loss: 0.0035 - acc: 1.0000 - val_loss: 0.0039 - val_acc: 0.9773\n",
      "Epoch 7/10\n",
      "176/176 [==============================] - 0s 33us/step - loss: 0.0054 - acc: 0.9943 - val_loss: 0.0012 - val_acc: 1.0000\n",
      "Epoch 8/10\n",
      "176/176 [==============================] - 0s 35us/step - loss: 0.0020 - acc: 1.0000 - val_loss: 0.0043 - val_acc: 1.0000\n",
      "Epoch 9/10\n",
      "176/176 [==============================] - 0s 35us/step - loss: 0.0013 - acc: 1.0000 - val_loss: 0.0062 - val_acc: 1.0000\n",
      "Epoch 10/10\n",
      "176/176 [==============================] - 0s 37us/step - loss: 0.0024 - acc: 0.9943 - val_loss: 1.0000e-07 - val_acc: 1.0000\n",
      "Trained Model is Saved at relative path inside PROJECT_DIR  ../models/supervisedBC/\n"
     ]
    },
    {
     "name": "stderr",
     "output_type": "stream",
     "text": [
      "/Users/raghav/envPython3/lib/python3.6/site-packages/keras/engine/sequential.py:252: UserWarning: Network returning invalid probability values. The last layer might not normalize predictions into probabilities (like softmax or sigmoid would).\n",
      "  warnings.warn('Network returning invalid probability values. '\n"
     ]
    },
    {
     "name": "stdout",
     "output_type": "stream",
     "text": [
      "Training the Keras Binary classifier.....\n",
      "Removed Early stopping......\n",
      "Train on 176 samples, validate on 44 samples\n",
      "Epoch 1/10\n",
      "176/176 [==============================] - 1s 4ms/step - loss: 0.0529 - acc: 1.0000 - val_loss: 0.0515 - val_acc: 1.0000\n",
      "Epoch 2/10\n",
      "176/176 [==============================] - 0s 38us/step - loss: 0.0305 - acc: 1.0000 - val_loss: 0.0153 - val_acc: 1.0000\n",
      "Epoch 3/10\n",
      "176/176 [==============================] - 0s 36us/step - loss: 0.0154 - acc: 1.0000 - val_loss: 6.2875e-04 - val_acc: 1.0000\n",
      "Epoch 4/10\n",
      "176/176 [==============================] - 0s 35us/step - loss: 0.0109 - acc: 1.0000 - val_loss: 9.5486e-04 - val_acc: 1.0000\n",
      "Epoch 5/10\n",
      "176/176 [==============================] - 0s 34us/step - loss: 0.0033 - acc: 1.0000 - val_loss: 0.0055 - val_acc: 1.0000\n",
      "Epoch 6/10\n",
      "176/176 [==============================] - 0s 36us/step - loss: 0.0053 - acc: 0.9886 - val_loss: 0.0036 - val_acc: 1.0000\n",
      "Epoch 7/10\n",
      "176/176 [==============================] - 0s 32us/step - loss: 0.0012 - acc: 1.0000 - val_loss: 0.0010 - val_acc: 1.0000\n",
      "Epoch 8/10\n",
      "176/176 [==============================] - 0s 37us/step - loss: 9.8115e-04 - acc: 1.0000 - val_loss: 0.0036 - val_acc: 1.0000\n",
      "Epoch 9/10\n",
      "176/176 [==============================] - 0s 35us/step - loss: 3.6459e-04 - acc: 0.9943 - val_loss: 0.0015 - val_acc: 1.0000\n",
      "Epoch 10/10\n",
      "176/176 [==============================] - 0s 33us/step - loss: 8.8991e-04 - acc: 1.0000 - val_loss: 1.0000e-07 - val_acc: 1.0000\n",
      "Trained Model is Saved at relative path inside PROJECT_DIR  ../models/supervisedBC/\n"
     ]
    },
    {
     "name": "stderr",
     "output_type": "stream",
     "text": [
      "/Users/raghav/envPython3/lib/python3.6/site-packages/keras/engine/sequential.py:252: UserWarning: Network returning invalid probability values. The last layer might not normalize predictions into probabilities (like softmax or sigmoid would).\n",
      "  warnings.warn('Network returning invalid probability values. '\n"
     ]
    },
    {
     "name": "stdout",
     "output_type": "stream",
     "text": [
      "Training the Keras Binary classifier.....\n",
      "Removed Early stopping......\n",
      "Train on 176 samples, validate on 44 samples\n",
      "Epoch 1/10\n",
      "176/176 [==============================] - 1s 5ms/step - loss: 0.0455 - acc: 1.0000 - val_loss: 0.0278 - val_acc: 1.0000\n",
      "Epoch 2/10\n",
      "176/176 [==============================] - 0s 42us/step - loss: 0.0370 - acc: 1.0000 - val_loss: 0.0141 - val_acc: 1.0000\n",
      "Epoch 3/10\n",
      "176/176 [==============================] - 0s 37us/step - loss: 0.0169 - acc: 1.0000 - val_loss: 0.0091 - val_acc: 1.0000\n",
      "Epoch 4/10\n",
      "176/176 [==============================] - 0s 35us/step - loss: 0.0079 - acc: 1.0000 - val_loss: 0.0071 - val_acc: 1.0000\n",
      "Epoch 5/10\n",
      "176/176 [==============================] - 0s 34us/step - loss: 0.0044 - acc: 1.0000 - val_loss: 0.0018 - val_acc: 1.0000\n",
      "Epoch 6/10\n",
      "176/176 [==============================] - 0s 35us/step - loss: 0.0020 - acc: 1.0000 - val_loss: 0.0016 - val_acc: 1.0000\n",
      "Epoch 7/10\n",
      "176/176 [==============================] - 0s 37us/step - loss: 0.0037 - acc: 1.0000 - val_loss: 0.0025 - val_acc: 1.0000\n",
      "Epoch 8/10\n",
      "176/176 [==============================] - 0s 32us/step - loss: 0.0015 - acc: 1.0000 - val_loss: 1.1143e-04 - val_acc: 1.0000\n",
      "Epoch 9/10\n",
      "176/176 [==============================] - 0s 38us/step - loss: 9.0258e-04 - acc: 1.0000 - val_loss: 0.0015 - val_acc: 1.0000\n",
      "Epoch 10/10\n",
      "176/176 [==============================] - 0s 41us/step - loss: 1.0000e-07 - acc: 0.9886 - val_loss: 0.0015 - val_acc: 1.0000\n",
      "Trained Model is Saved at relative path inside PROJECT_DIR  ../models/supervisedBC/\n"
     ]
    },
    {
     "name": "stderr",
     "output_type": "stream",
     "text": [
      "/Users/raghav/envPython3/lib/python3.6/site-packages/keras/engine/sequential.py:252: UserWarning: Network returning invalid probability values. The last layer might not normalize predictions into probabilities (like softmax or sigmoid would).\n",
      "  warnings.warn('Network returning invalid probability values. '\n"
     ]
    },
    {
     "name": "stdout",
     "output_type": "stream",
     "text": [
      "Training the Keras Binary classifier.....\n",
      "Removed Early stopping......\n",
      "Train on 176 samples, validate on 44 samples\n",
      "Epoch 1/10\n",
      "176/176 [==============================] - 1s 5ms/step - loss: 0.0634 - acc: 1.0000 - val_loss: 0.0306 - val_acc: 1.0000\n",
      "Epoch 2/10\n",
      "176/176 [==============================] - 0s 44us/step - loss: 0.0272 - acc: 1.0000 - val_loss: 0.0192 - val_acc: 1.0000\n",
      "Epoch 3/10\n",
      "176/176 [==============================] - 0s 40us/step - loss: 0.0230 - acc: 1.0000 - val_loss: 0.0199 - val_acc: 1.0000\n",
      "Epoch 4/10\n",
      "176/176 [==============================] - 0s 38us/step - loss: 0.0140 - acc: 1.0000 - val_loss: 0.0110 - val_acc: 1.0000\n",
      "Epoch 5/10\n",
      "176/176 [==============================] - 0s 42us/step - loss: 0.0065 - acc: 1.0000 - val_loss: 0.0090 - val_acc: 1.0000\n",
      "Epoch 6/10\n",
      "176/176 [==============================] - 0s 33us/step - loss: 0.0041 - acc: 1.0000 - val_loss: 0.0068 - val_acc: 1.0000\n",
      "Epoch 7/10\n",
      "176/176 [==============================] - 0s 38us/step - loss: 0.0072 - acc: 0.9943 - val_loss: 0.0025 - val_acc: 1.0000\n",
      "Epoch 8/10\n",
      "176/176 [==============================] - 0s 36us/step - loss: 0.0015 - acc: 1.0000 - val_loss: 9.4767e-05 - val_acc: 1.0000\n",
      "Epoch 9/10\n",
      "176/176 [==============================] - 0s 44us/step - loss: 0.0031 - acc: 1.0000 - val_loss: 8.4074e-04 - val_acc: 1.0000\n",
      "Epoch 10/10\n",
      "176/176 [==============================] - 0s 37us/step - loss: 0.0015 - acc: 1.0000 - val_loss: 0.0017 - val_acc: 1.0000\n",
      "Trained Model is Saved at relative path inside PROJECT_DIR  ../models/supervisedBC/\n"
     ]
    },
    {
     "name": "stderr",
     "output_type": "stream",
     "text": [
      "/Users/raghav/envPython3/lib/python3.6/site-packages/keras/engine/sequential.py:252: UserWarning: Network returning invalid probability values. The last layer might not normalize predictions into probabilities (like softmax or sigmoid would).\n",
      "  warnings.warn('Network returning invalid probability values. '\n"
     ]
    },
    {
     "name": "stdout",
     "output_type": "stream",
     "text": [
      "===================================\n",
      "AUC: 0.9921487603305785\n",
      "===================================\n",
      "===================================\n",
      "AUC: 0.9921487603305785\n",
      "===================================\n"
     ]
    }
   ],
   "source": [
    "%reload_ext autoreload\n",
    "%autoreload 2\n",
    "\n",
    "IMG_HGT =28\n",
    "IMG_WDT=28\n",
    "IMG_DEPTH=1\n",
    "\n",
    "print(\"[INFO]\",train_Anomaly_X.shape[0],\"Anomalous Samples Appended to training set\")\n",
    "data_train = np.concatenate((trainX,train_Anomaly_X),axis=0)\n",
    "data_train_label = np.concatenate((trainY,train_Anomaly_Y),axis=0)\n",
    "print(\"[INFO]\",data_train.shape[0],\"Training Samples Contains both 1's and 7s\")\n",
    "nClass =2\n",
    "NUM_EPOCHS = 100\n",
    "\n",
    "clf_FF_NN =  FF_NN()\n",
    "clf_FF_NN.fit(data_train,data_train_label,NUM_EPOCHS,IMG_HGT,IMG_WDT,IMG_DEPTH,nClass)\n",
    "\n",
    "## Predict the scores \n",
    "auc_FF_NN = clf_FF_NN.score(test_ones,label_ones,test_sevens,label_sevens)\n",
    "print(\"===========\")\n",
    "print(\"AUC: \",auc_FF_NN)\n",
    "print(\"===========\")"
   ]
  },
  {
   "cell_type": "markdown",
   "metadata": {},
   "source": [
    "## FakeNoise FF_NN Model"
   ]
  },
  {
   "cell_type": "code",
   "execution_count": 8,
   "metadata": {},
   "outputs": [
    {
     "name": "stdout",
     "output_type": "stream",
     "text": [
      "AUC: 0.7000000000000001\n",
      "===================================\n",
      "AUC: 0.7000000000000001\n",
      "===================================\n"
     ]
    },
    {
     "name": "stderr",
     "output_type": "stream",
     "text": [
      "/Users/raghav/envPython3/lib/python3.6/site-packages/keras/engine/sequential.py:252: UserWarning: Network returning invalid probability values. The last layer might not normalize predictions into probabilities (like softmax or sigmoid would).\n",
      "  warnings.warn('Network returning invalid probability values. '\n"
     ]
    }
   ],
   "source": [
    "## Fake Noise data to be generated which will be added to the training set before training\n",
    "%reload_ext autoreload\n",
    "%autoreload 2\n",
    "from src.models.Fake_Noise_FF_NN import Fake_Noise_FF_NN\n",
    "## Remove the Anomalous data and instead add Noise\n",
    "X_Noise,X_NoiseLabel = createData.get_FAKE_Noise_MNIST_TrainingData(trainX)\n",
    "print(\"[INFO]\",X_Noise.shape[0],\"Noise Samples Appended for training set\")\n",
    "data_train = np.concatenate((trainX,X_Noise),axis=0)\n",
    "data_train_label = np.concatenate((trainY,X_NoiseLabel),axis=0)\n",
    "\n",
    "\n",
    "clf_FakeNoise_FF_NN =  Fake_Noise_FF_NN()\n",
    "clf_FakeNoise_FF_NN.fit(data_train,data_train_label,NUM_EPOCHS,IMG_HGT,IMG_WDT,IMG_DEPTH,nClass)\n",
    "# Predict the scores \n",
    "\n",
    "auc_FAKENOISE_FF_NN = clf_FakeNoise_FF_NN.score(test_ones,label_ones,test_sevens,label_sevens)\n",
    "print(\"===========\")\n",
    "print(\"AUC: \",auc_FAKENOISE_FF_NN)\n",
    "print(\"===========\")"
   ]
  },
  {
   "cell_type": "markdown",
   "metadata": {},
   "source": [
    "## SKLEARN OCSVM"
   ]
  },
  {
   "cell_type": "code",
   "execution_count": 9,
   "metadata": {},
   "outputs": [
    {
     "name": "stdout",
     "output_type": "stream",
     "text": [
      "Training the OCSVM classifier.....\n",
      "===================================\n",
      "AUC: 1.0\n",
      "===================================\n"
     ]
    },
    {
     "data": {
      "image/png": "[encoded data removed]",
      "text/plain": [
       "<Figure size 432x288 with 1 Axes>"
      ]
     },
     "metadata": {},
     "output_type": "display_data"
    }
   ],
   "source": [
    "%reload_ext autoreload\n",
    "%autoreload 2\n",
    "##create the classifier\n",
    "from src.models.ocsvmSklearn import OCSVM\n",
    "ocsvm = OCSVM()\n",
    "nu= 0.01\n",
    "kernel = 'linear'\n",
    "clf = ocsvm.fit(trainX,nu,kernel)\n",
    "res = ocsvm.score(clf,test_ones,test_sevens)\n",
    "auc_OCSVM_linear = res\n",
    "print(\"=\"*35)\n",
    "print(\"AUC:\",res)\n",
    "print(\"=\"*35)\n",
    "\n",
    "kernel = 'rbf'\n",
    "clf = ocsvm.fit(trainX,nu,kernel)\n",
    "res = ocsvm.score(clf,test_ones,test_sevens)\n",
    "auc_OCSVM_rbf = res\n",
    "print(\"=\"*35)\n",
    "print(\"AUC:\",res)\n",
    "print(\"=\"*35)"
   ]
  },
  {
   "cell_type": "markdown",
   "metadata": {},
   "source": [
    "### OC-NN\n"
   ]
  },
  {
   "cell_type": "code",
   "execution_count": 10,
   "metadata": {},
   "outputs": [
    {
     "name": "stdout",
     "output_type": "stream",
     "text": [
      "Training the OCNN classifier.....\n"
     ]
    },
    {
     "ename": "ValueError",
     "evalue": "Dimensions must be equal, but are 64 and 200 for 'MatMul_1' (op: 'MatMul') with input shapes: [?,64], [200,1].",
     "output_type": "error",
     "traceback": [
      "\u001b[0;31m---------------------------------------------------------------------------\u001b[0m",
      "\u001b[0;31mInvalidArgumentError\u001b[0m                      Traceback (most recent call last)",
      "\u001b[0;32m~/envPython3/lib/python3.6/site-packages/tensorflow/python/framework/ops.py\u001b[0m in \u001b[0;36m_create_c_op\u001b[0;34m(graph, node_def, inputs, control_inputs)\u001b[0m\n\u001b[1;32m   1588\u001b[0m   \u001b[0;32mtry\u001b[0m\u001b[0;34m:\u001b[0m\u001b[0;34m\u001b[0m\u001b[0m\n\u001b[0;32m-> 1589\u001b[0;31m     \u001b[0mc_op\u001b[0m \u001b[0;34m=\u001b[0m \u001b[0mc_api\u001b[0m\u001b[0;34m.\u001b[0m\u001b[0mTF_FinishOperation\u001b[0m\u001b[0;34m(\u001b[0m\u001b[0mop_desc\u001b[0m\u001b[0;34m)\u001b[0m\u001b[0;34m\u001b[0m\u001b[0m\n\u001b[0m\u001b[1;32m   1590\u001b[0m   \u001b[0;32mexcept\u001b[0m \u001b[0merrors\u001b[0m\u001b[0;34m.\u001b[0m\u001b[0mInvalidArgumentError\u001b[0m \u001b[0;32mas\u001b[0m \u001b[0me\u001b[0m\u001b[0;34m:\u001b[0m\u001b[0;34m\u001b[0m\u001b[0m\n",
      "\u001b[0;31mInvalidArgumentError\u001b[0m: Dimensions must be equal, but are 64 and 200 for 'MatMul_1' (op: 'MatMul') with input shapes: [?,64], [200,1].",
      "\nDuring handling of the above exception, another exception occurred:\n",
      "\u001b[0;31mValueError\u001b[0m                                Traceback (most recent call last)",
      "\u001b[0;32m<ipython-input-10-e26e21a28976>\u001b[0m in \u001b[0;36m<module>\u001b[0;34m()\u001b[0m\n\u001b[1;32m      7\u001b[0m \u001b[0mactivation\u001b[0m \u001b[0;34m=\u001b[0m \u001b[0;34m'sigmoid'\u001b[0m\u001b[0;34m\u001b[0m\u001b[0m\n\u001b[1;32m      8\u001b[0m \u001b[0mepochs\u001b[0m \u001b[0;34m=\u001b[0m \u001b[0;36m100\u001b[0m\u001b[0;34m\u001b[0m\u001b[0m\n\u001b[0;32m----> 9\u001b[0;31m \u001b[0mocnn\u001b[0m\u001b[0;34m.\u001b[0m\u001b[0mfit\u001b[0m\u001b[0;34m(\u001b[0m\u001b[0mX_Pos\u001b[0m\u001b[0;34m,\u001b[0m\u001b[0mnu\u001b[0m\u001b[0;34m,\u001b[0m\u001b[0mactivation\u001b[0m\u001b[0;34m,\u001b[0m\u001b[0mepochs\u001b[0m\u001b[0;34m)\u001b[0m\u001b[0;34m\u001b[0m\u001b[0m\n\u001b[0m\u001b[1;32m     10\u001b[0m \u001b[0mres\u001b[0m \u001b[0;34m=\u001b[0m \u001b[0mocnn\u001b[0m\u001b[0;34m.\u001b[0m\u001b[0mscore\u001b[0m\u001b[0;34m(\u001b[0m\u001b[0mXtest_Pos\u001b[0m\u001b[0;34m,\u001b[0m\u001b[0mXtest_Neg\u001b[0m\u001b[0;34m)\u001b[0m\u001b[0;34m\u001b[0m\u001b[0m\n\u001b[1;32m     11\u001b[0m \u001b[0mauc_OCNN\u001b[0m \u001b[0;34m=\u001b[0m \u001b[0mres\u001b[0m\u001b[0;34m\u001b[0m\u001b[0m\n",
      "\u001b[0;32m~/envPython3/experiments/one_class_neural_networks/src/models/ocnn.py\u001b[0m in \u001b[0;36mfit\u001b[0;34m(self, X, nu, activation, epochs)\u001b[0m\n\u001b[1;32m    276\u001b[0m \u001b[0;34m\u001b[0m\u001b[0m\n\u001b[1;32m    277\u001b[0m         \u001b[0mprint\u001b[0m\u001b[0;34m(\u001b[0m\u001b[0;34m\"Training the OCNN classifier.....\"\u001b[0m\u001b[0;34m)\u001b[0m\u001b[0;34m\u001b[0m\u001b[0m\n\u001b[0;32m--> 278\u001b[0;31m         \u001b[0mself\u001b[0m\u001b[0;34m.\u001b[0m\u001b[0mtrain_OCNN_Classifier\u001b[0m\u001b[0;34m(\u001b[0m\u001b[0mX\u001b[0m\u001b[0;34m,\u001b[0m\u001b[0mnu\u001b[0m\u001b[0;34m,\u001b[0m\u001b[0mactivation\u001b[0m\u001b[0;34m,\u001b[0m\u001b[0mepochs\u001b[0m\u001b[0;34m)\u001b[0m\u001b[0;34m\u001b[0m\u001b[0m\n\u001b[0m\u001b[1;32m    279\u001b[0m \u001b[0;34m\u001b[0m\u001b[0m\n\u001b[1;32m    280\u001b[0m         \u001b[0;32mreturn\u001b[0m\u001b[0;34m\u001b[0m\u001b[0m\n",
      "\u001b[0;32m~/envPython3/experiments/one_class_neural_networks/src/models/ocnn.py\u001b[0m in \u001b[0;36mtrain_OCNN_Classifier\u001b[0;34m(self, X_train, nu, activation, epochs)\u001b[0m\n\u001b[1;32m    216\u001b[0m \u001b[0;34m\u001b[0m\u001b[0m\n\u001b[1;32m    217\u001b[0m \u001b[0;34m\u001b[0m\u001b[0m\n\u001b[0;32m--> 218\u001b[0;31m         \u001b[0mcost\u001b[0m    \u001b[0;34m=\u001b[0m \u001b[0mocnn_obj\u001b[0m\u001b[0;34m(\u001b[0m\u001b[0mtheta\u001b[0m\u001b[0;34m,\u001b[0m \u001b[0mX\u001b[0m\u001b[0;34m,\u001b[0m \u001b[0mnu\u001b[0m\u001b[0;34m,\u001b[0m \u001b[0mw_1\u001b[0m\u001b[0;34m,\u001b[0m \u001b[0mw_2\u001b[0m\u001b[0;34m,\u001b[0m \u001b[0mg\u001b[0m\u001b[0;34m,\u001b[0m\u001b[0mr\u001b[0m\u001b[0;34m,\u001b[0m\u001b[0mbias1\u001b[0m\u001b[0;34m,\u001b[0m\u001b[0mbias2\u001b[0m\u001b[0;34m)\u001b[0m\u001b[0;34m\u001b[0m\u001b[0m\n\u001b[0m\u001b[1;32m    219\u001b[0m         \u001b[0;31m#updates = tf.train.GradientDescentOptimizer(0.0001).minimize(cost)\u001b[0m\u001b[0;34m\u001b[0m\u001b[0;34m\u001b[0m\u001b[0m\n\u001b[1;32m    220\u001b[0m         \u001b[0mupdates\u001b[0m \u001b[0;34m=\u001b[0m \u001b[0mtf\u001b[0m\u001b[0;34m.\u001b[0m\u001b[0mtrain\u001b[0m\u001b[0;34m.\u001b[0m\u001b[0mAdamOptimizer\u001b[0m\u001b[0;34m(\u001b[0m\u001b[0;36m4.7\u001b[0m \u001b[0;34m*\u001b[0m \u001b[0;36m1e-1\u001b[0m\u001b[0;34m)\u001b[0m\u001b[0;34m.\u001b[0m\u001b[0mminimize\u001b[0m\u001b[0;34m(\u001b[0m\u001b[0mcost\u001b[0m\u001b[0;34m)\u001b[0m\u001b[0;34m\u001b[0m\u001b[0m\n",
      "\u001b[0;32m~/envPython3/experiments/one_class_neural_networks/src/models/ocnn.py\u001b[0m in \u001b[0;36mocnn_obj\u001b[0;34m(theta, X, nu, w1, w2, g, r, bias1, bias2)\u001b[0m\n\u001b[1;32m    189\u001b[0m             \u001b[0mterm1\u001b[0m \u001b[0;34m=\u001b[0m \u001b[0;36m0.5\u001b[0m  \u001b[0;34m*\u001b[0m \u001b[0mtf\u001b[0m\u001b[0;34m.\u001b[0m\u001b[0mreduce_sum\u001b[0m\u001b[0;34m(\u001b[0m\u001b[0mw\u001b[0m\u001b[0;34m**\u001b[0m\u001b[0;36m2\u001b[0m\u001b[0;34m)\u001b[0m\u001b[0;34m\u001b[0m\u001b[0m\n\u001b[1;32m    190\u001b[0m             \u001b[0mterm2\u001b[0m \u001b[0;34m=\u001b[0m \u001b[0;36m0.5\u001b[0m  \u001b[0;34m*\u001b[0m \u001b[0mtf\u001b[0m\u001b[0;34m.\u001b[0m\u001b[0mreduce_sum\u001b[0m\u001b[0;34m(\u001b[0m\u001b[0mV\u001b[0m\u001b[0;34m**\u001b[0m\u001b[0;36m2\u001b[0m\u001b[0;34m)\u001b[0m\u001b[0;34m\u001b[0m\u001b[0m\n\u001b[0;32m--> 191\u001b[0;31m             \u001b[0mterm3\u001b[0m \u001b[0;34m=\u001b[0m \u001b[0;36m1\u001b[0m\u001b[0;34m/\u001b[0m\u001b[0mnu\u001b[0m \u001b[0;34m*\u001b[0m \u001b[0mtf\u001b[0m\u001b[0;34m.\u001b[0m\u001b[0mreduce_mean\u001b[0m\u001b[0;34m(\u001b[0m\u001b[0mtf\u001b[0m\u001b[0;34m.\u001b[0m\u001b[0mnn\u001b[0m\u001b[0;34m.\u001b[0m\u001b[0mrelu\u001b[0m\u001b[0;34m(\u001b[0m\u001b[0mr\u001b[0m \u001b[0;34m-\u001b[0m \u001b[0mnnScore\u001b[0m\u001b[0;34m(\u001b[0m\u001b[0mX\u001b[0m\u001b[0;34m,\u001b[0m \u001b[0mw\u001b[0m\u001b[0;34m,\u001b[0m \u001b[0mV\u001b[0m\u001b[0;34m,\u001b[0m \u001b[0mg\u001b[0m\u001b[0;34m,\u001b[0m\u001b[0mbias1\u001b[0m\u001b[0;34m,\u001b[0m\u001b[0mbias2\u001b[0m\u001b[0;34m)\u001b[0m\u001b[0;34m)\u001b[0m\u001b[0;34m)\u001b[0m\u001b[0;34m\u001b[0m\u001b[0m\n\u001b[0m\u001b[1;32m    192\u001b[0m             \u001b[0mterm4\u001b[0m \u001b[0;34m=\u001b[0m \u001b[0;34m-\u001b[0m\u001b[0mr\u001b[0m\u001b[0;34m\u001b[0m\u001b[0m\n\u001b[1;32m    193\u001b[0m \u001b[0;34m\u001b[0m\u001b[0m\n",
      "\u001b[0;32m~/envPython3/experiments/one_class_neural_networks/src/models/ocnn.py\u001b[0m in \u001b[0;36mnnScore\u001b[0;34m(X, w, V, g, bias1, bias2)\u001b[0m\n\u001b[1;32m    143\u001b[0m             \u001b[0mw\u001b[0m \u001b[0;34m=\u001b[0m \u001b[0mtf\u001b[0m\u001b[0;34m.\u001b[0m\u001b[0mcast\u001b[0m\u001b[0;34m(\u001b[0m\u001b[0mw\u001b[0m\u001b[0;34m,\u001b[0m \u001b[0mtf\u001b[0m\u001b[0;34m.\u001b[0m\u001b[0mfloat32\u001b[0m\u001b[0;34m)\u001b[0m\u001b[0;34m\u001b[0m\u001b[0m\n\u001b[1;32m    144\u001b[0m             \u001b[0mV\u001b[0m \u001b[0;34m=\u001b[0m \u001b[0mtf\u001b[0m\u001b[0;34m.\u001b[0m\u001b[0mcast\u001b[0m\u001b[0;34m(\u001b[0m\u001b[0mV\u001b[0m\u001b[0;34m,\u001b[0m \u001b[0mtf\u001b[0m\u001b[0;34m.\u001b[0m\u001b[0mfloat32\u001b[0m\u001b[0;34m)\u001b[0m\u001b[0;34m\u001b[0m\u001b[0m\n\u001b[0;32m--> 145\u001b[0;31m             \u001b[0my_hat\u001b[0m \u001b[0;34m=\u001b[0m\u001b[0mtf\u001b[0m\u001b[0;34m.\u001b[0m\u001b[0mmatmul\u001b[0m\u001b[0;34m(\u001b[0m\u001b[0mg\u001b[0m\u001b[0;34m(\u001b[0m\u001b[0;34m(\u001b[0m\u001b[0mtf\u001b[0m\u001b[0;34m.\u001b[0m\u001b[0mmatmul\u001b[0m\u001b[0;34m(\u001b[0m\u001b[0mX\u001b[0m\u001b[0;34m,\u001b[0m \u001b[0mw\u001b[0m\u001b[0;34m)\u001b[0m\u001b[0;34m+\u001b[0m\u001b[0mbias1\u001b[0m\u001b[0;34m)\u001b[0m\u001b[0;34m)\u001b[0m\u001b[0;34m,\u001b[0m \u001b[0mV\u001b[0m\u001b[0;34m)\u001b[0m \u001b[0;34m+\u001b[0m\u001b[0mbias2\u001b[0m\u001b[0;34m\u001b[0m\u001b[0m\n\u001b[0m\u001b[1;32m    146\u001b[0m \u001b[0;34m\u001b[0m\u001b[0m\n\u001b[1;32m    147\u001b[0m             \u001b[0;32mreturn\u001b[0m \u001b[0my_hat\u001b[0m\u001b[0;34m\u001b[0m\u001b[0m\n",
      "\u001b[0;32m~/envPython3/lib/python3.6/site-packages/tensorflow/python/ops/math_ops.py\u001b[0m in \u001b[0;36mmatmul\u001b[0;34m(a, b, transpose_a, transpose_b, adjoint_a, adjoint_b, a_is_sparse, b_is_sparse, name)\u001b[0m\n\u001b[1;32m   2012\u001b[0m     \u001b[0;32melse\u001b[0m\u001b[0;34m:\u001b[0m\u001b[0;34m\u001b[0m\u001b[0m\n\u001b[1;32m   2013\u001b[0m       return gen_math_ops.mat_mul(\n\u001b[0;32m-> 2014\u001b[0;31m           a, b, transpose_a=transpose_a, transpose_b=transpose_b, name=name)\n\u001b[0m\u001b[1;32m   2015\u001b[0m \u001b[0;34m\u001b[0m\u001b[0m\n\u001b[1;32m   2016\u001b[0m \u001b[0;34m\u001b[0m\u001b[0m\n",
      "\u001b[0;32m~/envPython3/lib/python3.6/site-packages/tensorflow/python/ops/gen_math_ops.py\u001b[0m in \u001b[0;36mmat_mul\u001b[0;34m(a, b, transpose_a, transpose_b, name)\u001b[0m\n\u001b[1;32m   4277\u001b[0m     _, _, _op = _op_def_lib._apply_op_helper(\n\u001b[1;32m   4278\u001b[0m         \u001b[0;34m\"MatMul\"\u001b[0m\u001b[0;34m,\u001b[0m \u001b[0ma\u001b[0m\u001b[0;34m=\u001b[0m\u001b[0ma\u001b[0m\u001b[0;34m,\u001b[0m \u001b[0mb\u001b[0m\u001b[0;34m=\u001b[0m\u001b[0mb\u001b[0m\u001b[0;34m,\u001b[0m \u001b[0mtranspose_a\u001b[0m\u001b[0;34m=\u001b[0m\u001b[0mtranspose_a\u001b[0m\u001b[0;34m,\u001b[0m \u001b[0mtranspose_b\u001b[0m\u001b[0;34m=\u001b[0m\u001b[0mtranspose_b\u001b[0m\u001b[0;34m,\u001b[0m\u001b[0;34m\u001b[0m\u001b[0m\n\u001b[0;32m-> 4279\u001b[0;31m         name=name)\n\u001b[0m\u001b[1;32m   4280\u001b[0m     \u001b[0m_result\u001b[0m \u001b[0;34m=\u001b[0m \u001b[0m_op\u001b[0m\u001b[0;34m.\u001b[0m\u001b[0moutputs\u001b[0m\u001b[0;34m[\u001b[0m\u001b[0;34m:\u001b[0m\u001b[0;34m]\u001b[0m\u001b[0;34m\u001b[0m\u001b[0m\n\u001b[1;32m   4281\u001b[0m     \u001b[0m_inputs_flat\u001b[0m \u001b[0;34m=\u001b[0m \u001b[0m_op\u001b[0m\u001b[0;34m.\u001b[0m\u001b[0minputs\u001b[0m\u001b[0;34m\u001b[0m\u001b[0m\n",
      "\u001b[0;32m~/envPython3/lib/python3.6/site-packages/tensorflow/python/framework/op_def_library.py\u001b[0m in \u001b[0;36m_apply_op_helper\u001b[0;34m(self, op_type_name, name, **keywords)\u001b[0m\n\u001b[1;32m    785\u001b[0m         op = g.create_op(op_type_name, inputs, output_types, name=scope,\n\u001b[1;32m    786\u001b[0m                          \u001b[0minput_types\u001b[0m\u001b[0;34m=\u001b[0m\u001b[0minput_types\u001b[0m\u001b[0;34m,\u001b[0m \u001b[0mattrs\u001b[0m\u001b[0;34m=\u001b[0m\u001b[0mattr_protos\u001b[0m\u001b[0;34m,\u001b[0m\u001b[0;34m\u001b[0m\u001b[0m\n\u001b[0;32m--> 787\u001b[0;31m                          op_def=op_def)\n\u001b[0m\u001b[1;32m    788\u001b[0m       \u001b[0;32mreturn\u001b[0m \u001b[0moutput_structure\u001b[0m\u001b[0;34m,\u001b[0m \u001b[0mop_def\u001b[0m\u001b[0;34m.\u001b[0m\u001b[0mis_stateful\u001b[0m\u001b[0;34m,\u001b[0m \u001b[0mop\u001b[0m\u001b[0;34m\u001b[0m\u001b[0m\n\u001b[1;32m    789\u001b[0m \u001b[0;34m\u001b[0m\u001b[0m\n",
      "\u001b[0;32m~/envPython3/lib/python3.6/site-packages/tensorflow/python/framework/ops.py\u001b[0m in \u001b[0;36mcreate_op\u001b[0;34m(self, op_type, inputs, dtypes, input_types, name, attrs, op_def, compute_shapes, compute_device)\u001b[0m\n\u001b[1;32m   3412\u001b[0m           \u001b[0minput_types\u001b[0m\u001b[0;34m=\u001b[0m\u001b[0minput_types\u001b[0m\u001b[0;34m,\u001b[0m\u001b[0;34m\u001b[0m\u001b[0m\n\u001b[1;32m   3413\u001b[0m           \u001b[0moriginal_op\u001b[0m\u001b[0;34m=\u001b[0m\u001b[0mself\u001b[0m\u001b[0;34m.\u001b[0m\u001b[0m_default_original_op\u001b[0m\u001b[0;34m,\u001b[0m\u001b[0;34m\u001b[0m\u001b[0m\n\u001b[0;32m-> 3414\u001b[0;31m           op_def=op_def)\n\u001b[0m\u001b[1;32m   3415\u001b[0m \u001b[0;34m\u001b[0m\u001b[0m\n\u001b[1;32m   3416\u001b[0m       \u001b[0;31m# Note: shapes are lazily computed with the C API enabled.\u001b[0m\u001b[0;34m\u001b[0m\u001b[0;34m\u001b[0m\u001b[0m\n",
      "\u001b[0;32m~/envPython3/lib/python3.6/site-packages/tensorflow/python/framework/ops.py\u001b[0m in \u001b[0;36m__init__\u001b[0;34m(self, node_def, g, inputs, output_types, control_inputs, input_types, original_op, op_def)\u001b[0m\n\u001b[1;32m   1754\u001b[0m           op_def, inputs, node_def.attr)\n\u001b[1;32m   1755\u001b[0m       self._c_op = _create_c_op(self._graph, node_def, grouped_inputs,\n\u001b[0;32m-> 1756\u001b[0;31m                                 control_input_ops)\n\u001b[0m\u001b[1;32m   1757\u001b[0m     \u001b[0;32melse\u001b[0m\u001b[0;34m:\u001b[0m\u001b[0;34m\u001b[0m\u001b[0m\n\u001b[1;32m   1758\u001b[0m       \u001b[0mself\u001b[0m\u001b[0;34m.\u001b[0m\u001b[0m_c_op\u001b[0m \u001b[0;34m=\u001b[0m \u001b[0;32mNone\u001b[0m\u001b[0;34m\u001b[0m\u001b[0m\n",
      "\u001b[0;32m~/envPython3/lib/python3.6/site-packages/tensorflow/python/framework/ops.py\u001b[0m in \u001b[0;36m_create_c_op\u001b[0;34m(graph, node_def, inputs, control_inputs)\u001b[0m\n\u001b[1;32m   1590\u001b[0m   \u001b[0;32mexcept\u001b[0m \u001b[0merrors\u001b[0m\u001b[0;34m.\u001b[0m\u001b[0mInvalidArgumentError\u001b[0m \u001b[0;32mas\u001b[0m \u001b[0me\u001b[0m\u001b[0;34m:\u001b[0m\u001b[0;34m\u001b[0m\u001b[0m\n\u001b[1;32m   1591\u001b[0m     \u001b[0;31m# Convert to ValueError for backwards compatibility.\u001b[0m\u001b[0;34m\u001b[0m\u001b[0;34m\u001b[0m\u001b[0m\n\u001b[0;32m-> 1592\u001b[0;31m     \u001b[0;32mraise\u001b[0m \u001b[0mValueError\u001b[0m\u001b[0;34m(\u001b[0m\u001b[0mstr\u001b[0m\u001b[0;34m(\u001b[0m\u001b[0me\u001b[0m\u001b[0;34m)\u001b[0m\u001b[0;34m)\u001b[0m\u001b[0;34m\u001b[0m\u001b[0m\n\u001b[0m\u001b[1;32m   1593\u001b[0m \u001b[0;34m\u001b[0m\u001b[0m\n\u001b[1;32m   1594\u001b[0m   \u001b[0;32mreturn\u001b[0m \u001b[0mc_op\u001b[0m\u001b[0;34m\u001b[0m\u001b[0m\n",
      "\u001b[0;31mValueError\u001b[0m: Dimensions must be equal, but are 64 and 200 for 'MatMul_1' (op: 'MatMul') with input shapes: [?,64], [200,1]."
     ]
    }
   ],
   "source": [
    "##create the classifier\n",
    "## Instantiate the object and call the function\n",
    "\n",
    "%reload_ext autoreload\n",
    "%autoreload 2\n",
    "\n",
    "IMG_HGT =28\n",
    "IMG_WDT=28\n",
    "IMG_DEPTH=1\n",
    "nClass=2\n",
    "from src.models.OC_NN import OC_NN\n",
    "import keras\n",
    "\n",
    "ocnn = OC_NN()\n",
    "\n",
    "nu= 0.01\n",
    "NUM_EPOCHS = 100\n",
    "ocnn.fit(trainX,nu,NUM_EPOCHS,IMG_HGT,IMG_WDT,IMG_DEPTH,nClass)\n",
    "res = ocnn.score(test_ones,test_sevens) \n",
    "auc_OCNN = res\n",
    "\n",
    "print(\"=\"*35)\n",
    "print(\"AUC:\",res)\n",
    "print(\"=\"*35)\n",
    "\n",
    "\n",
    "\n",
    "\n",
    "\n"
   ]
  },
  {
   "cell_type": "markdown",
   "metadata": {},
   "source": [
    "## Comparing  AUC scores of various methods"
   ]
  },
  {
   "cell_type": "code",
   "execution_count": null,
   "metadata": {},
   "outputs": [],
   "source": [
    "import pandas as pd\n",
    "import matplotlib.pyplot as plt\n",
    "\n",
    "auc = np.zeros((1,5))\n",
    "auc[0][0] = auc_FF_NN\n",
    "auc[0][1] = auc_FAKENOISE_FF_NN\n",
    "auc[0][2] = auc_OCSVM_linear\n",
    "auc[0][3] = auc_OCSVM_rbf\n",
    "auc[0][4] = auc_OCNN\n",
    "\n",
    "\n",
    "aucList = [auc_FF_NN,auc_FAKENOISE_FF_NN, auc_OCSVM_linear,auc_OCSVM_rbf, auc_OCNN]\n",
    "\n",
    "index = ['FF_NN', 'Fake_NN', 'OCSVM_L','OCSVM_rbf','OCNN']\n",
    "df = pd.DataFrame({'auc': aucList}, index=index)\n",
    "ax = df.plot.bar(rot=0)\n",
    "\n",
    "plt.ylabel('AUC')\n",
    "plt.xlabel('Methods')\n",
    "plt.title('AUC Comparision for -- USPS Data')"
   ]
  }
 ],
 "metadata": {
  "kernelspec": {
   "display_name": "Python 3",
   "language": "python",
   "name": "python3"
  },
  "language_info": {
   "codemirror_mode": {
    "name": "ipython",
    "version": 3
   },
   "file_extension": ".py",
   "mimetype": "text/x-python",
   "name": "python",
   "nbconvert_exporter": "python",
   "pygments_lexer": "ipython3",
   "version": "3.6.5"
  }
 },
 "nbformat": 4,
 "nbformat_minor": 2
}
